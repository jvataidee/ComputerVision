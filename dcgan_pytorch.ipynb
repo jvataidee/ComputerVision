{
 "cells": [
  {
   "cell_type": "markdown",
   "source": [
    "# Training DCGAN in PyTorch\n",
    "\n",
    "---"
   ],
   "metadata": {
    "collapsed": false
   }
  },
  {
   "cell_type": "code",
   "execution_count": 1,
   "outputs": [],
   "source": [
    "import numpy as np\n",
    "import argparse\n",
    "import torch\n",
    "import cv2\n",
    "import os\n",
    "import matplotlib.pyplot as plt\n",
    "\n",
    "from IPython.display import Image"
   ],
   "metadata": {
    "collapsed": false,
    "ExecuteTime": {
     "end_time": "2023-06-01T11:40:39.696934800Z",
     "start_time": "2023-06-01T11:40:35.134271700Z"
    }
   }
  },
  {
   "cell_type": "code",
   "execution_count": 2,
   "outputs": [
    {
     "data": {
      "text/plain": "<torch.autograd.anomaly_mode.set_detect_anomaly at 0x2b439120430>"
     },
     "execution_count": 2,
     "metadata": {},
     "output_type": "execute_result"
    }
   ],
   "source": [
    "#biblitecas de ML\n",
    "from torchvision.datasets import MNIST\n",
    "from torch.utils.data import DataLoader\n",
    "from torchvision.transforms import ToTensor\n",
    "from torchvision import transforms\n",
    "from sklearn.utils import shuffle\n",
    "from imutils import build_montages\n",
    "from torch.optim import Adam\n",
    "from torch.nn import BCELoss\n",
    "from torch.nn import ConvTranspose2d\n",
    "from torch.nn import BatchNorm2d\n",
    "from torch.nn import Conv2d\n",
    "from torch.nn import Linear\n",
    "from torch.nn import LeakyReLU\n",
    "from torch.nn import ReLU\n",
    "from torch.nn import Tanh\n",
    "from torch.nn import Sigmoid\n",
    "from torch import flatten\n",
    "from torch import nn\n",
    "\n",
    "torch.autograd.set_detect_anomaly(True)"
   ],
   "metadata": {
    "collapsed": false,
    "ExecuteTime": {
     "end_time": "2023-06-01T11:40:44.813055300Z",
     "start_time": "2023-06-01T11:40:39.697934600Z"
    }
   }
  },
  {
   "cell_type": "code",
   "execution_count": 25,
   "outputs": [],
   "source": [
    "args = {\n",
    "    \"output\":\"output\",\n",
    "    \"epochs\":40,\n",
    "    \"batch-size\":512,\n",
    "    \"gif\":r\"D:\\Estudos\\PyImageSearch\\PyTorch 103 - Advanced PyTorch Techniques\\output.gif\"\n",
    "}"
   ],
   "metadata": {
    "collapsed": false,
    "ExecuteTime": {
     "end_time": "2023-06-01T12:55:12.723294900Z",
     "start_time": "2023-06-01T12:55:12.719295500Z"
    }
   }
  },
  {
   "cell_type": "markdown",
   "source": [
    "## Step 1: Define Generator --------------------------------"
   ],
   "metadata": {
    "collapsed": false
   }
  },
  {
   "cell_type": "code",
   "execution_count": 4,
   "outputs": [],
   "source": [
    "class Generator(nn.Module):\n",
    "    def __init__(self, inputDim=100, outputDim=512, outputChannels=1):\n",
    "        super(Generator, self).__init__()\n",
    "\n",
    "        # CONVT => RELU => BN\n",
    "        self.ct1 = ConvTranspose2d(in_channels=inputDim,\n",
    "                                   out_channels=128, kernel_size=4, stride=2, padding=0,\n",
    "                                   bias=False)\n",
    "        self.relu1 = ReLU()\n",
    "        self.batchNorm1 = BatchNorm2d(128)\n",
    "\n",
    "        # ONVT => RELU => BN\n",
    "        self.ct2 = ConvTranspose2d(in_channels=128, out_channels=64,\n",
    "                                   kernel_size=3, stride=2, padding=1, bias=False)\n",
    "        self.relu2 = ReLU()\n",
    "        self.batchNorm2 = BatchNorm2d(64)\n",
    "\n",
    "        # CONVT => RELU => BN\n",
    "        self.ct3 = ConvTranspose2d(in_channels=64, out_channels=32,\n",
    "                                   kernel_size=4, stride=2, padding=1, bias=False)\n",
    "        self.relu3 = ReLU()\n",
    "        self.batchNorm3 = BatchNorm2d(32)\n",
    "\n",
    "        # TANH activation\n",
    "        self.ct4 = ConvTranspose2d(in_channels=32,\n",
    "                                   out_channels=outputChannels, kernel_size=4, stride=2,\n",
    "                                   padding=1, bias=False)\n",
    "        self.tanh = Tanh()\n",
    "\n",
    "    def forward(self, x):\n",
    "\n",
    "        x = self.ct1(x)\n",
    "        x = self.relu1(x)\n",
    "        x = self.batchNorm1(x)\n",
    "\n",
    "        x = self.ct2(x)\n",
    "        x = self.relu2(x)\n",
    "        x = self.batchNorm2(x)\n",
    "\n",
    "        x = self.ct3(x)\n",
    "        x = self.relu3(x)\n",
    "        x = self.batchNorm3(x)\n",
    "\n",
    "        x = self.ct4(x)\n",
    "        output = self.tanh(x)\n",
    "\n",
    "        return output"
   ],
   "metadata": {
    "collapsed": false,
    "ExecuteTime": {
     "end_time": "2023-06-01T11:40:44.870559500Z",
     "start_time": "2023-06-01T11:40:44.832654400Z"
    }
   }
  },
  {
   "cell_type": "markdown",
   "source": [
    "## Step 2: Define Disciminator --------------------------------"
   ],
   "metadata": {
    "collapsed": false
   }
  },
  {
   "cell_type": "code",
   "execution_count": 5,
   "outputs": [],
   "source": [
    "class Discriminator(nn.Module):\n",
    "    def __init__(self, depth, alpha=0.2):\n",
    "        super(Discriminator, self).__init__()\n",
    "\n",
    "        # fCONV => RELU layers\n",
    "        self.conv1 = Conv2d(in_channels=depth, out_channels=32,\n",
    "                            kernel_size=4, stride=2, padding=1)\n",
    "        self.leakyRelu1 = LeakyReLU(alpha, inplace=True)\n",
    "\n",
    "        # CONV => RELU layers\n",
    "        self.conv2 = Conv2d(in_channels=32, out_channels=64, kernel_size=4,\n",
    "                            stride=2, padding=1)\n",
    "        self.leakyRelu2 = LeakyReLU(alpha, inplace=True)\n",
    "\n",
    "        # FC => RELU layers\n",
    "        self.fc1 = Linear(in_features=3136, out_features=512)\n",
    "        self.leakyRelu3 = LeakyReLU(alpha, inplace=True)\n",
    "\n",
    "        # sigmoid layer\n",
    "        self.fc2 = Linear(in_features=512, out_features=1)\n",
    "        self.sigmoid = Sigmoid()\n",
    "\n",
    "    def forward(self, x):\n",
    "\n",
    "        x = self.conv1(x)\n",
    "        x = self.leakyRelu1(x)\n",
    "\n",
    "        x = self.conv2(x)\n",
    "        x = self.leakyRelu2(x)\n",
    "\n",
    "        x = flatten(x, 1)\n",
    "        x = self.fc1(x)\n",
    "        x = self.leakyRelu3(x)\n",
    "\n",
    "        x = self.fc2(x)\n",
    "        output = self.sigmoid(x)\n",
    "\n",
    "        return output"
   ],
   "metadata": {
    "collapsed": false,
    "ExecuteTime": {
     "end_time": "2023-06-01T11:40:44.882804800Z",
     "start_time": "2023-06-01T11:40:44.847422700Z"
    }
   }
  },
  {
   "cell_type": "markdown",
   "source": [
    "## Step 3 - Custom Weight Initialization --------------------------------"
   ],
   "metadata": {
    "collapsed": false
   }
  },
  {
   "cell_type": "code",
   "execution_count": 6,
   "outputs": [],
   "source": [
    "def weights_init(model):\n",
    "    classname = model.__class__.__name__\n",
    "\n",
    "    if classname.find(\"Conv\") != -1:\n",
    "        nn.init.normal_(model.weight.data, 0.0, 0.02)\n",
    "\n",
    "    elif classname.find(\"BatchNorm\") != -1:\n",
    "        nn.init.normal_(model.weight.data, 1.0, 0.02)\n",
    "        nn.init.constant_(model.bias.data, 0)"
   ],
   "metadata": {
    "collapsed": false,
    "ExecuteTime": {
     "end_time": "2023-06-01T11:40:44.883804600Z",
     "start_time": "2023-06-01T11:40:44.870559500Z"
    }
   }
  },
  {
   "cell_type": "markdown",
   "source": [
    "## Step 4 - Building data papeline --------------------------------"
   ],
   "metadata": {
    "collapsed": false
   }
  },
  {
   "cell_type": "code",
   "execution_count": 7,
   "outputs": [],
   "source": [
    "NUM_EPOCHS = args[\"epochs\"]\n",
    "BATCH_SIZE = args[\"batch-size\"]\n",
    "\n",
    "DEVICE = torch.device(\"cuda:0\" if torch.cuda.is_available() else \"cpu\")\n",
    "\n",
    "dataTransform = transforms.Compose([\n",
    "    transforms.ToTensor(),\n",
    "    transforms.Normalize((0.5), (0.5))\n",
    "])\n",
    "\n",
    "trainData = MNIST(root  = \"data\", train=True, download=True,\n",
    "                  transform=dataTransform)\n",
    "\n",
    "testData = MNIST(root  = \"data\", train=False, download=True,\n",
    "                  transform=dataTransform)\n",
    "\n",
    "data = torch.utils.data.ConcatDataset((trainData, testData))\n",
    "\n",
    "dataloader = DataLoader(data, shuffle = True,\n",
    "                        batch_size=BATCH_SIZE)\n",
    "\n",
    "stepsPerEpoch = len(dataloader.dataset) // BATCH_SIZE"
   ],
   "metadata": {
    "collapsed": false,
    "ExecuteTime": {
     "end_time": "2023-06-01T11:40:44.970489200Z",
     "start_time": "2023-06-01T11:40:44.877270600Z"
    }
   }
  },
  {
   "cell_type": "markdown",
   "source": [
    "## Step 5 - Training the Model --------------------------------"
   ],
   "metadata": {
    "collapsed": false
   }
  },
  {
   "cell_type": "markdown",
   "source": [
    "### 5.1 Compile Models --------------------------------"
   ],
   "metadata": {
    "collapsed": false
   }
  },
  {
   "cell_type": "code",
   "execution_count": 8,
   "outputs": [
    {
     "data": {
      "text/plain": "Discriminator(\n  (conv1): Conv2d(1, 32, kernel_size=(4, 4), stride=(2, 2), padding=(1, 1))\n  (leakyRelu1): LeakyReLU(negative_slope=0.2, inplace=True)\n  (conv2): Conv2d(32, 64, kernel_size=(4, 4), stride=(2, 2), padding=(1, 1))\n  (leakyRelu2): LeakyReLU(negative_slope=0.2, inplace=True)\n  (fc1): Linear(in_features=3136, out_features=512, bias=True)\n  (leakyRelu3): LeakyReLU(negative_slope=0.2, inplace=True)\n  (fc2): Linear(in_features=512, out_features=1, bias=True)\n  (sigmoid): Sigmoid()\n)"
     },
     "execution_count": 8,
     "metadata": {},
     "output_type": "execute_result"
    }
   ],
   "source": [
    "disc = Discriminator(depth=1)\n",
    "disc.apply(weights_init)\n",
    "disc.to(DEVICE)"
   ],
   "metadata": {
    "collapsed": false,
    "ExecuteTime": {
     "end_time": "2023-06-01T11:40:45.028468400Z",
     "start_time": "2023-06-01T11:40:44.967979600Z"
    }
   }
  },
  {
   "cell_type": "code",
   "execution_count": 9,
   "outputs": [
    {
     "data": {
      "text/plain": "Generator(\n  (ct1): ConvTranspose2d(100, 128, kernel_size=(4, 4), stride=(2, 2), bias=False)\n  (relu1): ReLU()\n  (batchNorm1): BatchNorm2d(128, eps=1e-05, momentum=0.1, affine=True, track_running_stats=True)\n  (ct2): ConvTranspose2d(128, 64, kernel_size=(3, 3), stride=(2, 2), padding=(1, 1), bias=False)\n  (relu2): ReLU()\n  (batchNorm2): BatchNorm2d(64, eps=1e-05, momentum=0.1, affine=True, track_running_stats=True)\n  (ct3): ConvTranspose2d(64, 32, kernel_size=(4, 4), stride=(2, 2), padding=(1, 1), bias=False)\n  (relu3): ReLU()\n  (batchNorm3): BatchNorm2d(32, eps=1e-05, momentum=0.1, affine=True, track_running_stats=True)\n  (ct4): ConvTranspose2d(32, 1, kernel_size=(4, 4), stride=(2, 2), padding=(1, 1), bias=False)\n  (tanh): Tanh()\n)"
     },
     "execution_count": 9,
     "metadata": {},
     "output_type": "execute_result"
    }
   ],
   "source": [
    "gen = Generator(inputDim = 100, outputDim =512,\n",
    "                outputChannels = 1)\n",
    "gen.apply(weights_init)\n",
    "gen.to(DEVICE)"
   ],
   "metadata": {
    "collapsed": false,
    "ExecuteTime": {
     "end_time": "2023-06-01T11:40:45.037474Z",
     "start_time": "2023-06-01T11:40:44.998427300Z"
    }
   }
  },
  {
   "cell_type": "markdown",
   "source": [
    "### 5.2 Optimizers  --------------------------------"
   ],
   "metadata": {
    "collapsed": false
   }
  },
  {
   "cell_type": "code",
   "execution_count": 10,
   "outputs": [],
   "source": [
    "genOpt = Adam(gen.parameters(), lr=0.0002, betas=(0.5, 0.999),\n",
    "              weight_decay=0.0002 / NUM_EPOCHS)\n",
    "discOpt = Adam(disc.parameters(), lr=0.0001, betas=(0.5, 0.999),\n",
    "               weight_decay=0.0002 / NUM_EPOCHS)\n",
    "\n",
    "criterion = BCELoss()"
   ],
   "metadata": {
    "collapsed": false,
    "ExecuteTime": {
     "end_time": "2023-06-01T11:40:45.037474Z",
     "start_time": "2023-06-01T11:40:45.013923900Z"
    }
   }
  },
  {
   "cell_type": "markdown",
   "source": [
    "### 5.3 Benchmark Noise  --------------------------------"
   ],
   "metadata": {
    "collapsed": false
   }
  },
  {
   "cell_type": "code",
   "execution_count": 11,
   "outputs": [],
   "source": [
    "benchmarkNoise = torch.randn(256, 100, 1, 1, device=DEVICE)"
   ],
   "metadata": {
    "collapsed": false,
    "ExecuteTime": {
     "end_time": "2023-06-01T11:40:45.057035100Z",
     "start_time": "2023-06-01T11:40:45.029469300Z"
    }
   }
  },
  {
   "cell_type": "markdown",
   "source": [
    "### 5.4 Executing Training  --------------------------------"
   ],
   "metadata": {
    "collapsed": false
   }
  },
  {
   "cell_type": "code",
   "execution_count": 12,
   "outputs": [
    {
     "name": "stdout",
     "output_type": "stream",
     "text": [
      "[INFO] starting epoch 1 of 40...\n",
      "[INFO] Generator Loss: 3.2733, Discriminator Loss: 0.3785\n",
      "[INFO] starting epoch 2 of 40...\n",
      "[INFO] Generator Loss: 3.4794, Discriminator Loss: 0.4745\n",
      "[INFO] starting epoch 3 of 40...\n",
      "[INFO] Generator Loss: 2.2126, Discriminator Loss: 0.7806\n",
      "[INFO] starting epoch 4 of 40...\n",
      "[INFO] Generator Loss: 1.3158, Discriminator Loss: 1.0254\n",
      "[INFO] starting epoch 5 of 40...\n",
      "[INFO] Generator Loss: 1.1257, Discriminator Loss: 1.1954\n",
      "[INFO] starting epoch 6 of 40...\n",
      "[INFO] Generator Loss: 1.0218, Discriminator Loss: 1.2155\n",
      "[INFO] starting epoch 7 of 40...\n",
      "[INFO] Generator Loss: 0.9604, Discriminator Loss: 1.2840\n",
      "[INFO] starting epoch 8 of 40...\n",
      "[INFO] Generator Loss: 0.9085, Discriminator Loss: 1.3125\n",
      "[INFO] starting epoch 9 of 40...\n",
      "[INFO] Generator Loss: 0.8416, Discriminator Loss: 1.2989\n",
      "[INFO] starting epoch 10 of 40...\n",
      "[INFO] Generator Loss: 0.8436, Discriminator Loss: 1.2927\n",
      "[INFO] starting epoch 11 of 40...\n",
      "[INFO] Generator Loss: 0.8576, Discriminator Loss: 1.2962\n",
      "[INFO] starting epoch 12 of 40...\n",
      "[INFO] Generator Loss: 0.8816, Discriminator Loss: 1.2710\n",
      "[INFO] starting epoch 13 of 40...\n",
      "[INFO] Generator Loss: 0.8785, Discriminator Loss: 1.2765\n",
      "[INFO] starting epoch 14 of 40...\n",
      "[INFO] Generator Loss: 0.8765, Discriminator Loss: 1.2933\n",
      "[INFO] starting epoch 15 of 40...\n",
      "[INFO] Generator Loss: 0.8396, Discriminator Loss: 1.3201\n",
      "[INFO] starting epoch 16 of 40...\n",
      "[INFO] Generator Loss: 0.8528, Discriminator Loss: 1.2634\n",
      "[INFO] starting epoch 17 of 40...\n",
      "[INFO] Generator Loss: 0.8259, Discriminator Loss: 1.3265\n",
      "[INFO] starting epoch 18 of 40...\n",
      "[INFO] Generator Loss: 0.7889, Discriminator Loss: 1.3291\n",
      "[INFO] starting epoch 19 of 40...\n",
      "[INFO] Generator Loss: 0.8238, Discriminator Loss: 1.3143\n",
      "[INFO] starting epoch 20 of 40...\n",
      "[INFO] Generator Loss: 0.8277, Discriminator Loss: 1.2720\n",
      "[INFO] starting epoch 21 of 40...\n",
      "[INFO] Generator Loss: 0.8043, Discriminator Loss: 1.3157\n",
      "[INFO] starting epoch 22 of 40...\n",
      "[INFO] Generator Loss: 0.8492, Discriminator Loss: 1.2819\n",
      "[INFO] starting epoch 23 of 40...\n",
      "[INFO] Generator Loss: 0.8131, Discriminator Loss: 1.2919\n",
      "[INFO] starting epoch 24 of 40...\n",
      "[INFO] Generator Loss: 0.8184, Discriminator Loss: 1.3001\n",
      "[INFO] starting epoch 25 of 40...\n",
      "[INFO] Generator Loss: 0.8299, Discriminator Loss: 1.2885\n",
      "[INFO] starting epoch 26 of 40...\n",
      "[INFO] Generator Loss: 0.8303, Discriminator Loss: 1.2960\n",
      "[INFO] starting epoch 27 of 40...\n",
      "[INFO] Generator Loss: 0.8108, Discriminator Loss: 1.2958\n",
      "[INFO] starting epoch 28 of 40...\n",
      "[INFO] Generator Loss: 0.7903, Discriminator Loss: 1.3222\n",
      "[INFO] starting epoch 29 of 40...\n",
      "[INFO] Generator Loss: 0.7629, Discriminator Loss: 1.3485\n",
      "[INFO] starting epoch 30 of 40...\n",
      "[INFO] Generator Loss: 0.8005, Discriminator Loss: 1.3154\n",
      "[INFO] starting epoch 31 of 40...\n",
      "[INFO] Generator Loss: 0.7809, Discriminator Loss: 1.3372\n",
      "[INFO] starting epoch 32 of 40...\n",
      "[INFO] Generator Loss: 0.7751, Discriminator Loss: 1.3349\n",
      "[INFO] starting epoch 33 of 40...\n",
      "[INFO] Generator Loss: 0.7833, Discriminator Loss: 1.3298\n",
      "[INFO] starting epoch 34 of 40...\n",
      "[INFO] Generator Loss: 0.7822, Discriminator Loss: 1.3188\n",
      "[INFO] starting epoch 35 of 40...\n",
      "[INFO] Generator Loss: 0.7981, Discriminator Loss: 1.3021\n",
      "[INFO] starting epoch 36 of 40...\n",
      "[INFO] Generator Loss: 0.8040, Discriminator Loss: 1.2970\n",
      "[INFO] starting epoch 37 of 40...\n",
      "[INFO] Generator Loss: 0.7842, Discriminator Loss: 1.3207\n",
      "[INFO] starting epoch 38 of 40...\n",
      "[INFO] Generator Loss: 0.8156, Discriminator Loss: 1.2815\n",
      "[INFO] starting epoch 39 of 40...\n",
      "[INFO] Generator Loss: 0.8272, Discriminator Loss: 1.2863\n",
      "[INFO] starting epoch 40 of 40...\n",
      "[INFO] Generator Loss: 0.8245, Discriminator Loss: 1.2908\n"
     ]
    }
   ],
   "source": [
    "realLabel = 1\n",
    "fakeLabel = 0\n",
    "\n",
    "# create empty list to store losses\n",
    "lossesG = []\n",
    "lossesD = []\n",
    "\n",
    "# loop over the epochs\n",
    "for epoch in range(NUM_EPOCHS):\n",
    "    # show epoch information and compute the number of batches per\n",
    "    # epoch\n",
    "    print(\"[INFO] starting epoch {} of {}...\".format(epoch + 1,\n",
    "                                                     NUM_EPOCHS))\n",
    "\n",
    "    # initialize current epoch loss for generator and discriminator\n",
    "    epochLossG = 0\n",
    "    epochLossD = 0\n",
    "\n",
    "    for x in dataloader:\n",
    "        # zero out the discriminator gradients\n",
    "        disc.zero_grad()\n",
    "\n",
    "        # grab the images and send them to the device\n",
    "        images = x[0]\n",
    "        images = images.to(DEVICE)\n",
    "\n",
    "        # get the batch size and create a labels tensor\n",
    "        bs =  images.size(0)\n",
    "        labels = torch.full((bs,), realLabel, dtype=torch.float,\n",
    "                            device=DEVICE)\n",
    "\n",
    "        # forward pass through discriminator\n",
    "        output = disc(images).view(-1)\n",
    "\n",
    "        # calculate the loss on all-real batch\n",
    "        errorReal = criterion(output, labels)\n",
    "\n",
    "        # calculate gradients by performing a backward pass\n",
    "        errorReal.backward()\n",
    "\n",
    "        # randomly generate noise for the generator to predict on\n",
    "        noise = torch.randn(bs, 100, 1, 1, device=DEVICE)\n",
    "\n",
    "        # generate a fake image batch using the generator\n",
    "        fake = gen(noise)\n",
    "        labels.fill_(fakeLabel)\n",
    "\n",
    "        # perform a forward pass through discriminator using fake\n",
    "        # batch data\n",
    "        output = disc(fake.detach()).view(-1)\n",
    "        errorFake = criterion(output, labels)\n",
    "\n",
    "        # calculate gradients by performing a backward pass\n",
    "        errorFake.backward()\n",
    "\n",
    "        # compute the error for discriminator and update it\n",
    "        errorD = errorReal + errorFake\n",
    "        discOpt.step()\n",
    "\n",
    "        # set all generator gradients to zero\n",
    "        gen.zero_grad()\n",
    "\n",
    "        # update the labels as fake labels are real for the generator\n",
    "        # and perform a forward pass  of fake data batch through the\n",
    "        # discriminator\n",
    "        labels.fill_(realLabel)\n",
    "        output = disc(fake).view(-1)\n",
    "\n",
    "        # calculate generator's loss based on output from\n",
    "        # discriminator and calculate gradients for generator\n",
    "        errorG = criterion(output, labels)\n",
    "        errorG.backward()\n",
    "\n",
    "        # update the generator\n",
    "        genOpt.step()\n",
    "\n",
    "        # add the current iteration loss of discriminator and\n",
    "        # generator\n",
    "        epochLossD += errorD\n",
    "        epochLossG += errorG\n",
    "\n",
    "        # calculate average losses for the current epoch\n",
    "        avgLossG = epochLossG / stepsPerEpoch\n",
    "        avgLossD = epochLossD / stepsPerEpoch\n",
    "\n",
    "        # append these values into our lists\n",
    "        lossesG.append(avgLossG)\n",
    "        lossesD.append(avgLossD)\n",
    "\n",
    "    # display training information to disk\n",
    "    print(\"[INFO] Generator Loss: {:.4f}, Discriminator Loss: {:.4f}\".format(\n",
    "        epochLossG / stepsPerEpoch, epochLossD / stepsPerEpoch))\n",
    "\n",
    "    # check to see if we should visualize the output of the\n",
    "    # generator model on our benchmark data\n",
    "    if (epoch + 1) % 2 == 0:\n",
    "        # set the generator in evaluation phase, make predictions on\n",
    "        # the benchmark noise, scale it back to the range [0, 255],\n",
    "        # and generate the montage\n",
    "        gen.eval()\n",
    "        images = gen(benchmarkNoise)\n",
    "        images = images.detach().cpu().numpy().transpose((0, 2, 3, 1))\n",
    "        images = ((images * 127.5) + 127.5).astype(\"uint8\")\n",
    "        images = np.repeat(images, 3, axis=-1)\n",
    "        vis = build_montages(images, (28, 28), (16, 16))[0]\n",
    "\n",
    "        # build the output path and write the visualization to disk\n",
    "        p = os.path.join(args[\"output\"], \"epoch_{}.png\".format(\n",
    "            str(epoch + 1).zfill(4)))\n",
    "        cv2.imwrite(p, vis)\n",
    "\n",
    "        # set the generator to training mode\n",
    "        gen.train()"
   ],
   "metadata": {
    "collapsed": false,
    "ExecuteTime": {
     "end_time": "2023-06-01T12:49:12.835857100Z",
     "start_time": "2023-06-01T11:40:45.057035100Z"
    }
   }
  },
  {
   "cell_type": "code",
   "execution_count": 23,
   "outputs": [
    {
     "data": {
      "text/plain": "<Figure size 1000x500 with 1 Axes>",
      "image/png": "[encoded data removed]"
     },
     "metadata": {},
     "output_type": "display_data"
    }
   ],
   "source": [
    "lossesG2 = [loss.detach().numpy() for loss in lossesG]\n",
    "lossesD2 = [loss.detach().numpy() for loss in lossesD]\n",
    "\n",
    "# Plotting the losses\n",
    "plt.figure(figsize=(10, 5))\n",
    "plt.title(\"Generator and Discriminator Loss During Training\")\n",
    "plt.plot(lossesG2, label=\"G\")\n",
    "plt.plot(lossesD2, label=\"D\")\n",
    "plt.xlabel(\"epochs\")\n",
    "plt.ylabel(\"Loss\")\n",
    "plt.legend()\n",
    "plt.show()\n"
   ],
   "metadata": {
    "collapsed": false,
    "ExecuteTime": {
     "end_time": "2023-06-01T12:53:16.351440100Z",
     "start_time": "2023-06-01T12:53:16.207713500Z"
    }
   }
  },
  {
   "cell_type": "code",
   "execution_count": 26,
   "outputs": [
    {
     "name": "stdout",
     "output_type": "stream",
     "text": [
      "[INFO] Final Generator Loss: 0.8245, Final Discriminator Loss: 1.2908\n"
     ]
    }
   ],
   "source": [
    "print(\"[INFO] Final Generator Loss: {:.4f}, Final Discriminator Loss: {:.4f}\".format(lossesG[-1], lossesD[-1]))"
   ],
   "metadata": {
    "collapsed": false,
    "ExecuteTime": {
     "end_time": "2023-06-01T12:55:45.252381500Z",
     "start_time": "2023-06-01T12:55:45.245351600Z"
    }
   }
  },
  {
   "cell_type": "code",
   "execution_count": 37,
   "outputs": [
    {
     "data": {
      "text/plain": "<matplotlib.image.AxesImage at 0x2b4d61e4be0>"
     },
     "execution_count": 37,
     "metadata": {},
     "output_type": "execute_result"
    },
    {
     "data": {
      "text/plain": "<Figure size 640x480 with 1 Axes>",
      "image/png": "[encoded data removed]"
     },
     "metadata": {},
     "output_type": "display_data"
    }
   ],
   "source": [
    "plt.imshow(images[100][:,:,::-1])"
   ],
   "metadata": {
    "collapsed": false,
    "ExecuteTime": {
     "end_time": "2023-06-01T12:58:13.435727900Z",
     "start_time": "2023-06-01T12:58:13.359165100Z"
    }
   }
  },
  {
   "cell_type": "code",
   "execution_count": null,
   "outputs": [],
   "source": [],
   "metadata": {
    "collapsed": false
   }
  }
 ],
 "metadata": {
  "kernelspec": {
   "display_name": "Python 3",
   "language": "python",
   "name": "python3"
  },
  "language_info": {
   "codemirror_mode": {
    "name": "ipython",
    "version": 2
   },
   "file_extension": ".py",
   "mimetype": "text/x-python",
   "name": "python",
   "nbconvert_exporter": "python",
   "pygments_lexer": "ipython2",
   "version": "2.7.6"
  }
 },
 "nbformat": 4,
 "nbformat_minor": 0
}
